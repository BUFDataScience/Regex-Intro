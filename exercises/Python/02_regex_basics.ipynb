{
 "cells": [
  {
   "cell_type": "markdown",
   "metadata": {},
   "source": [
    "# Import Dependencies"
   ]
  },
  {
   "cell_type": "code",
   "execution_count": 1,
   "metadata": {
    "collapsed": false
   },
   "outputs": [],
   "source": [
    "import numpy as np\n",
    "import pandas as pd"
   ]
  },
  {
   "cell_type": "markdown",
   "metadata": {},
   "source": [
    "# Pandas String Documentation"
   ]
  },
  {
   "cell_type": "code",
   "execution_count": null,
   "metadata": {
    "collapsed": false
   },
   "outputs": [],
   "source": [
    "import webbrowser\n",
    "webbrowser.open_new_tab('http://pandas.pydata.org/pandas-docs/stable/text.html')"
   ]
  },
  {
   "cell_type": "markdown",
   "metadata": {
    "collapsed": true
   },
   "source": [
    "# A Regex Cheat Sheet\n",
    "\n",
    "```\n",
    "NAME                REGEX    WHAT IT DOES                                          \n",
    "Exception           [^X]     Match everything except `X`                        \n",
    "Dot                 .        Match any character                                \n",
    "Case Insensitive    (?i)     Matches irregardless of case; `Foo` & `foO` matched\n",
    "Digit               \\d       Match digits (i.e., [0-9])                         \n",
    "Non-Digit           \\D       Match non-digits (i.e., [^0-9])                    \n",
    "Word                \\w       Match words (i.e., [_a-zA-Z0-9])                   \n",
    "Non-Word            \\W       Match non-words (i.e., [^_a-zA-Z0-9])              \n",
    "Whitespace          \\s       Match whitespace (i.e., [ \\t\\r\\n\\f])           \n",
    "Non-Whitespace      \\S       Match non-whitespace (i.e., [^ \\t\\r\\n\\f])      \n",
    "Word Boundary       \\b       Match beginning/end of word                        \n",
    "Non-Word Boundary   \\B       Match not beginning/end of word                    \n",
    "0-1 (Greedy)        x?       Match 0-1 times greedy                             \n",
    "0-1 (Lazy)          x??      Match 0-1 times lazy                               \n",
    ">= 0 (Greedy)       x*       Match 0 or more times greedy                       \n",
    ">= 0 (Lazy)         x*?      Match 0 or more times lazy                         \n",
    ">= 1 (Greedy)       x+       Match 1 or more times greedy                       \n",
    ">= 1 (Lazy)         x+?      Match 1 or more times lazy                         \n",
    "Exactly N           x{4}     Match N times                                      \n",
    "Min-Max             x{4,8}   Match min-max times                                \n",
    "> N                 x{9,}    Match N or more times        \n",
    "```"
   ]
  },
  {
   "cell_type": "code",
   "execution_count": null,
   "metadata": {
    "collapsed": true
   },
   "outputs": [],
   "source": []
  },
  {
   "cell_type": "code",
   "execution_count": null,
   "metadata": {
    "collapsed": true
   },
   "outputs": [],
   "source": []
  },
  {
   "cell_type": "code",
   "execution_count": null,
   "metadata": {
    "collapsed": true
   },
   "outputs": [],
   "source": []
  },
  {
   "cell_type": "code",
   "execution_count": null,
   "metadata": {
    "collapsed": true
   },
   "outputs": [],
   "source": []
  },
  {
   "cell_type": "code",
   "execution_count": null,
   "metadata": {
    "collapsed": true
   },
   "outputs": [],
   "source": [
    "  "
   ]
  },
  {
   "cell_type": "markdown",
   "metadata": {},
   "source": [
    "# Exercises"
   ]
  },
  {
   "cell_type": "markdown",
   "metadata": {},
   "source": [
    "## String Data"
   ]
  },
  {
   "cell_type": "code",
   "execution_count": 3,
   "metadata": {
    "collapsed": false,
    "scrolled": true
   },
   "outputs": [
    {
     "data": {
      "text/plain": [
       "['A download file from the http://example.com',\n",
       " 'Another url ftp://www.example.com',\n",
       " 'And https://www.example.net',\n",
       " '@hadley (Dr. Wickham) I like #rstats for #ggplot2 work.',\n",
       " 'Difference between #magrittr and #pipeR, both implement pipeline operators for #rstats: http://renkun.me/r/2014/07/26/difference-between-magrittr-and-pipeR.html @timelyportfolio',\n",
       " 'Is -2 an integer?',\n",
       " '-4.3 and 3.33 are not.',\n",
       " '123,456 is 0 alot -123456 more than -.2',\n",
       " 'and 3456789123 fg for 345.',\n",
       " 'There is $5.50 for me.',\n",
       " \"that's 45.6% of the pizza\",\n",
       " '14% is $26 or $25.99',\n",
       " 'Mr. Bean bought 2 tickets 2-613-213-4567',\n",
       " '43 Butter Rd, Brossard QC K0A 3P0 - 613 213 4567',\n",
       " 'The Rat Race, XX, 12345',\n",
       " 'Ignore phone numbers(613)2134567',\n",
       " 'Grab zips with dashes 12345-6789 or no space before12345-6789',\n",
       " 'Grab zips with spaces 12345 6789 or no space before12345 6789',\n",
       " 'I like 1234567 dogs',\n",
       " ' There is ( $5.50 ) for , me and you (NAME HERE). ',\n",
       " \" that's [ 45.6% ] of! the pizza !\",\n",
       " '     14% is { $26  } or $25.99 ?',\n",
       " \"Oh ;  here's colon : Yippee !\",\n",
       " 'I love chicken [unintelligible]!',\n",
       " \"Me too Miss Jane! (laughter) It's so good.[interrupting]\",\n",
       " \"Yep it's awesome {reading}.\",\n",
       " 'Agreed Ms. Jones. {is so much fun}',\n",
       " 'R uses 1:5 for 1, 2, 3, 4, 5.',\n",
       " \"At 3:00 we'll meet up , and we leave by 4:30:20\",\n",
       " \"We'll meet at 6:33 , bring $20,000.\",\n",
       " 'He ran it in :22.34']"
      ]
     },
     "execution_count": 3,
     "metadata": {},
     "output_type": "execute_result"
    }
   ],
   "source": [
    "random = [\n",
    "    \"A download file from the http://example.com\", \n",
    "    \"Another url ftp://www.example.com\",\n",
    "    \"And https://www.example.net\",\n",
    "    \"@hadley (Dr. Wickham) I like #rstats for #ggplot2 work.\",\n",
    "    \"Difference between #magrittr and #pipeR, both implement pipeline operators for #rstats: http://renkun.me/r/2014/07/26/difference-between-magrittr-and-pipeR.html @timelyportfolio\",\n",
    "    \"Is -2 an integer?\", \"-4.3 and 3.33 are not.\",\n",
    "    \"123,456 is 0 alot -123456 more than -.2\", \"and 3456789123 fg for 345.\",\n",
    "    \"There is $5.50 for me.\", \"that's 45.6% of the pizza\", \n",
    "    \"14% is $26 or $25.99\",\n",
    "    \"Mr. Bean bought 2 tickets 2-613-213-4567\",\n",
    "    \"43 Butter Rd, Brossard QC K0A 3P0 - 613 213 4567\", \n",
    "    \"The Rat Race, XX, 12345\",\n",
    "    \"Ignore phone numbers(613)2134567\",\n",
    "    \"Grab zips with dashes 12345-6789 or no space before12345-6789\",  \n",
    "    \"Grab zips with spaces 12345 6789 or no space before12345 6789\",\n",
    "    \"I like 1234567 dogs\",\n",
    "    \" There is ( $5.50 ) for , me and you (NAME HERE). \", \" that's [ 45.6% ] of! the pizza !\", \n",
    "    \"     14% is { $26  } or $25.99 ?\", \"Oh ;  here's colon : Yippee !\",\n",
    "    \"I love chicken [unintelligible]!\",\n",
    "    \"Me too Miss Jane! (laughter) It's so good.[interrupting]\",\n",
    "    \"Yep it's awesome {reading}.\", \"Agreed Ms. Jones. {is so much fun}\",\n",
    "    \"R uses 1:5 for 1, 2, 3, 4, 5.\", \n",
    "    \"At 3:00 we'll meet up , and we leave by 4:30:20\",\n",
    "    \"We'll meet at 6:33 , bring $20,000.\", \"He ran it in :22.34\"\n",
    "]\n",
    "random"
   ]
  },
  {
   "cell_type": "code",
   "execution_count": null,
   "metadata": {
    "collapsed": true
   },
   "outputs": [],
   "source": []
  },
  {
   "cell_type": "markdown",
   "metadata": {},
   "source": [
    "## Use `'random'` to make a 1 column pandas dataframe with the column named random."
   ]
  },
  {
   "cell_type": "code",
   "execution_count": null,
   "metadata": {
    "collapsed": false
   },
   "outputs": [],
   "source": []
  },
  {
   "cell_type": "code",
   "execution_count": null,
   "metadata": {
    "collapsed": true
   },
   "outputs": [],
   "source": []
  },
  {
   "cell_type": "markdown",
   "metadata": {},
   "source": [
    "## Remove all Twitter hash tags (#tag)."
   ]
  },
  {
   "cell_type": "code",
   "execution_count": null,
   "metadata": {
    "collapsed": false
   },
   "outputs": [],
   "source": []
  },
  {
   "cell_type": "code",
   "execution_count": null,
   "metadata": {
    "collapsed": true
   },
   "outputs": [],
   "source": []
  },
  {
   "cell_type": "markdown",
   "metadata": {},
   "source": [
    "## Replace all Twitter user names (@name) with `'<<USER>>'`."
   ]
  },
  {
   "cell_type": "code",
   "execution_count": null,
   "metadata": {
    "collapsed": false
   },
   "outputs": [],
   "source": []
  },
  {
   "cell_type": "code",
   "execution_count": null,
   "metadata": {
    "collapsed": true
   },
   "outputs": [],
   "source": []
  },
  {
   "cell_type": "markdown",
   "metadata": {},
   "source": [
    "## Replace dollar amounts including dollars and decimals with `'<<$$$>>'`."
   ]
  },
  {
   "cell_type": "code",
   "execution_count": null,
   "metadata": {
    "collapsed": false
   },
   "outputs": [],
   "source": []
  },
  {
   "cell_type": "code",
   "execution_count": null,
   "metadata": {
    "collapsed": true
   },
   "outputs": [],
   "source": []
  },
  {
   "cell_type": "markdown",
   "metadata": {},
   "source": [
    "## Count the number of articles (the, a, an) in each string.  Remember to ignore case.  \n",
    "\n",
    "Don't count words that contain the articles (e.g., `\"they\"` contains the sub-string 'the'; don't count it).  '\\b' may not work unless you make the string raw: http://stackoverflow.com/a/3995242/1000343"
   ]
  },
  {
   "cell_type": "code",
   "execution_count": null,
   "metadata": {
    "collapsed": false
   },
   "outputs": [],
   "source": []
  },
  {
   "cell_type": "code",
   "execution_count": null,
   "metadata": {
    "collapsed": true
   },
   "outputs": [],
   "source": []
  },
  {
   "cell_type": "markdown",
   "metadata": {},
   "source": [
    "## Replace 5 or 9 (must contain a dash) digit zip codes with `\"<<ZIP>>\"`."
   ]
  },
  {
   "cell_type": "code",
   "execution_count": null,
   "metadata": {
    "collapsed": false
   },
   "outputs": [],
   "source": []
  },
  {
   "cell_type": "code",
   "execution_count": null,
   "metadata": {
    "collapsed": true
   },
   "outputs": [],
   "source": []
  },
  {
   "cell_type": "markdown",
   "metadata": {},
   "source": [
    "## Replace a name title (Mr., Ms., Mz., Miss, Dr., etc.) followed by a capitalized name (presumably last name) with `\"<<TITLE NAME>>\"`."
   ]
  },
  {
   "cell_type": "code",
   "execution_count": null,
   "metadata": {
    "collapsed": false
   },
   "outputs": [],
   "source": []
  },
  {
   "cell_type": "code",
   "execution_count": null,
   "metadata": {
    "collapsed": true
   },
   "outputs": [],
   "source": []
  },
  {
   "cell_type": "markdown",
   "metadata": {},
   "source": [
    "## Replace double spaces with single spaces."
   ]
  },
  {
   "cell_type": "code",
   "execution_count": null,
   "metadata": {
    "collapsed": false
   },
   "outputs": [],
   "source": []
  },
  {
   "cell_type": "code",
   "execution_count": null,
   "metadata": {
    "collapsed": true
   },
   "outputs": [],
   "source": []
  },
  {
   "cell_type": "markdown",
   "metadata": {},
   "source": [
    "## Extract final punctuation mark. "
   ]
  },
  {
   "cell_type": "code",
   "execution_count": null,
   "metadata": {
    "collapsed": false
   },
   "outputs": [],
   "source": []
  },
  {
   "cell_type": "code",
   "execution_count": null,
   "metadata": {
    "collapsed": false
   },
   "outputs": [],
   "source": []
  },
  {
   "cell_type": "markdown",
   "metadata": {},
   "source": [
    "## Which strings have a comma preceded by a space?  Remove space before commas."
   ]
  },
  {
   "cell_type": "code",
   "execution_count": null,
   "metadata": {
    "collapsed": false,
    "scrolled": true
   },
   "outputs": [],
   "source": []
  },
  {
   "cell_type": "code",
   "execution_count": null,
   "metadata": {
    "collapsed": false
   },
   "outputs": [],
   "source": []
  },
  {
   "cell_type": "code",
   "execution_count": null,
   "metadata": {
    "collapsed": true
   },
   "outputs": [],
   "source": []
  },
  {
   "cell_type": "markdown",
   "metadata": {},
   "source": [
    "## Replace words starting with capital letters with `\"<<CAPS>>\"`."
   ]
  },
  {
   "cell_type": "code",
   "execution_count": null,
   "metadata": {
    "collapsed": false
   },
   "outputs": [],
   "source": []
  },
  {
   "cell_type": "code",
   "execution_count": null,
   "metadata": {
    "collapsed": true
   },
   "outputs": [],
   "source": []
  },
  {
   "cell_type": "markdown",
   "metadata": {},
   "source": [
    "## Replace all parenthesis and the text in between with `'<<PLACEHOLDER>>'`."
   ]
  },
  {
   "cell_type": "code",
   "execution_count": null,
   "metadata": {
    "collapsed": false
   },
   "outputs": [],
   "source": []
  },
  {
   "cell_type": "code",
   "execution_count": null,
   "metadata": {
    "collapsed": true
   },
   "outputs": [],
   "source": []
  },
  {
   "cell_type": "markdown",
   "metadata": {},
   "source": [
    "## Remove all non-vowel characters ignoring cases."
   ]
  },
  {
   "cell_type": "code",
   "execution_count": null,
   "metadata": {
    "collapsed": false
   },
   "outputs": [],
   "source": []
  },
  {
   "cell_type": "code",
   "execution_count": null,
   "metadata": {
    "collapsed": true
   },
   "outputs": [],
   "source": []
  },
  {
   "cell_type": "markdown",
   "metadata": {},
   "source": [
    "## Remove all URLs.\n"
   ]
  },
  {
   "cell_type": "code",
   "execution_count": null,
   "metadata": {
    "collapsed": false,
    "scrolled": true
   },
   "outputs": [],
   "source": []
  },
  {
   "cell_type": "code",
   "execution_count": null,
   "metadata": {
    "collapsed": true
   },
   "outputs": [],
   "source": []
  },
  {
   "cell_type": "markdown",
   "metadata": {
    "collapsed": true
   },
   "source": [
    "## Tokenizing: \n",
    "1. Remove all characters except letters, apostrophes, & spaces. \n",
    "2. Remove leading and trailing spaces.  \n",
    "3. Split each string into a vector of words (split on one or more spaces).  "
   ]
  },
  {
   "cell_type": "code",
   "execution_count": null,
   "metadata": {
    "collapsed": false
   },
   "outputs": [],
   "source": []
  },
  {
   "cell_type": "code",
   "execution_count": null,
   "metadata": {
    "collapsed": true
   },
   "outputs": [],
   "source": []
  },
  {
   "cell_type": "markdown",
   "metadata": {
    "collapsed": true
   },
   "source": [
    "## Replace all numbers (including decimal points and negative signs) with `\"<<NUMBER>>\"`."
   ]
  },
  {
   "cell_type": "markdown",
   "metadata": {},
   "source": [
    "***Note*** *that a number followed by a comma  (e.g., `\"33,\"` in `\"We'll meet at 6:33, bring $20,000.\"`) might get captured.  We'll learn advanced techniques to handle this in a more advanced session.*\n"
   ]
  },
  {
   "cell_type": "code",
   "execution_count": null,
   "metadata": {
    "collapsed": false
   },
   "outputs": [],
   "source": []
  },
  {
   "cell_type": "code",
   "execution_count": null,
   "metadata": {
    "collapsed": true
   },
   "outputs": [],
   "source": []
  },
  {
   "cell_type": "code",
   "execution_count": null,
   "metadata": {
    "collapsed": true
   },
   "outputs": [],
   "source": []
  }
 ],
 "metadata": {
  "kernelspec": {
   "display_name": "Python 3",
   "language": "python",
   "name": "python3"
  },
  "language_info": {
   "codemirror_mode": {
    "name": "ipython",
    "version": 3
   },
   "file_extension": ".py",
   "mimetype": "text/x-python",
   "name": "python",
   "nbconvert_exporter": "python",
   "pygments_lexer": "ipython3",
   "version": "3.5.2"
  }
 },
 "nbformat": 4,
 "nbformat_minor": 0
}
