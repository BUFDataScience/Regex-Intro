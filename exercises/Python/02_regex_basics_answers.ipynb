{
 "cells": [
  {
   "cell_type": "markdown",
   "metadata": {},
   "source": [
    "# Import Dependencies"
   ]
  },
  {
   "cell_type": "code",
   "execution_count": 1,
   "metadata": {
    "collapsed": false
   },
   "outputs": [],
   "source": [
    "import numpy as np\n",
    "import pandas as pd"
   ]
  },
  {
   "cell_type": "markdown",
   "metadata": {},
   "source": [
    "# Pandas String Documentation"
   ]
  },
  {
   "cell_type": "code",
   "execution_count": null,
   "metadata": {
    "collapsed": false
   },
   "outputs": [],
   "source": [
    "import webbrowser\n",
    "webbrowser.open_new_tab('http://pandas.pydata.org/pandas-docs/stable/text.html')"
   ]
  },
  {
   "cell_type": "markdown",
   "metadata": {
    "collapsed": true
   },
   "source": [
    "# A Regex Cheat Sheet\n",
    "\n",
    "```\n",
    "NAME                REGEX    WHAT IT DOES                                          \n",
    "Exception           [^X]     Match everything except `X`                        \n",
    "Dot                 .        Match any character                                \n",
    "Case Insensitive    (?i)     Matches irregardless of case; `Foo` & `foO` matched\n",
    "Digit               \\d       Match digits (i.e., [0-9])                         \n",
    "Non-Digit           \\D       Match non-digits (i.e., [^0-9])                    \n",
    "Word                \\w       Match words (i.e., [_a-zA-Z0-9])                   \n",
    "Non-Word            \\W       Match non-words (i.e., [^_a-zA-Z0-9])              \n",
    "Whitespace          \\s       Match whitespace (i.e., [ \\t\\r\\n\\f])           \n",
    "Non-Whitespace      \\S       Match non-whitespace (i.e., [^ \\t\\r\\n\\f])      \n",
    "Word Boundary       \\b       Match beginning/end of word                        \n",
    "Non-Word Boundary   \\B       Match not beginning/end of word                    \n",
    "0-1 (Greedy)        x?       Match 0-1 times greedy                             \n",
    "0-1 (Lazy)          x??      Match 0-1 times lazy                               \n",
    ">= 0 (Greedy)       x*       Match 0 or more times greedy                       \n",
    ">= 0 (Lazy)         x*?      Match 0 or more times lazy                         \n",
    ">= 1 (Greedy)       x+       Match 1 or more times greedy                       \n",
    ">= 1 (Lazy)         x+?      Match 1 or more times lazy                         \n",
    "Exactly N           x{4}     Match N times                                      \n",
    "Min-Max             x{4,8}   Match min-max times                                \n",
    "> N                 x{9,}    Match N or more times        \n",
    "```"
   ]
  },
  {
   "cell_type": "code",
   "execution_count": null,
   "metadata": {
    "collapsed": true
   },
   "outputs": [],
   "source": []
  },
  {
   "cell_type": "code",
   "execution_count": null,
   "metadata": {
    "collapsed": true
   },
   "outputs": [],
   "source": []
  },
  {
   "cell_type": "code",
   "execution_count": null,
   "metadata": {
    "collapsed": true
   },
   "outputs": [],
   "source": []
  },
  {
   "cell_type": "code",
   "execution_count": null,
   "metadata": {
    "collapsed": true
   },
   "outputs": [],
   "source": []
  },
  {
   "cell_type": "code",
   "execution_count": null,
   "metadata": {
    "collapsed": true
   },
   "outputs": [],
   "source": [
    "  "
   ]
  },
  {
   "cell_type": "markdown",
   "metadata": {},
   "source": [
    "# Exercises"
   ]
  },
  {
   "cell_type": "markdown",
   "metadata": {},
   "source": [
    "## String Data"
   ]
  },
  {
   "cell_type": "code",
   "execution_count": 3,
   "metadata": {
    "collapsed": false,
    "scrolled": true
   },
   "outputs": [
    {
     "data": {
      "text/plain": [
       "['A download file from the http://example.com',\n",
       " 'Another url ftp://www.example.com',\n",
       " 'And https://www.example.net',\n",
       " '@hadley (Dr. Wickham) I like #rstats for #ggplot2 work.',\n",
       " 'Difference between #magrittr and #pipeR, both implement pipeline operators for #rstats: http://renkun.me/r/2014/07/26/difference-between-magrittr-and-pipeR.html @timelyportfolio',\n",
       " 'Is -2 an integer?',\n",
       " '-4.3 and 3.33 are not.',\n",
       " '123,456 is 0 alot -123456 more than -.2',\n",
       " 'and 3456789123 fg for 345.',\n",
       " 'There is $5.50 for me.',\n",
       " \"that's 45.6% of the pizza\",\n",
       " '14% is $26 or $25.99',\n",
       " 'Mr. Bean bought 2 tickets 2-613-213-4567',\n",
       " '43 Butter Rd, Brossard QC K0A 3P0 - 613 213 4567',\n",
       " 'The Rat Race, XX, 12345',\n",
       " 'Ignore phone numbers(613)2134567',\n",
       " 'Grab zips with dashes 12345-6789 or no space before12345-6789',\n",
       " 'Grab zips with spaces 12345 6789 or no space before12345 6789',\n",
       " 'I like 1234567 dogs',\n",
       " ' There is ( $5.50 ) for , me and you (NAME HERE). ',\n",
       " \" that's [ 45.6% ] of! the pizza !\",\n",
       " '     14% is { $26  } or $25.99 ?',\n",
       " \"Oh ;  here's colon : Yippee !\",\n",
       " 'I love chicken [unintelligible]!',\n",
       " \"Me too Miss Jane! (laughter) It's so good.[interrupting]\",\n",
       " \"Yep it's awesome {reading}.\",\n",
       " 'Agreed Ms. Jones. {is so much fun}',\n",
       " 'R uses 1:5 for 1, 2, 3, 4, 5.',\n",
       " \"At 3:00 we'll meet up , and we leave by 4:30:20\",\n",
       " \"We'll meet at 6:33 , bring $20,000.\",\n",
       " 'He ran it in :22.34']"
      ]
     },
     "execution_count": 3,
     "metadata": {},
     "output_type": "execute_result"
    }
   ],
   "source": [
    "random = [\n",
    "    \"A download file from the http://example.com\", \n",
    "    \"Another url ftp://www.example.com\",\n",
    "    \"And https://www.example.net\",\n",
    "    \"@hadley (Dr. Wickham) I like #rstats for #ggplot2 work.\",\n",
    "    \"Difference between #magrittr and #pipeR, both implement pipeline operators for #rstats: http://renkun.me/r/2014/07/26/difference-between-magrittr-and-pipeR.html @timelyportfolio\",\n",
    "    \"Is -2 an integer?\", \"-4.3 and 3.33 are not.\",\n",
    "    \"123,456 is 0 alot -123456 more than -.2\", \"and 3456789123 fg for 345.\",\n",
    "    \"There is $5.50 for me.\", \"that's 45.6% of the pizza\", \n",
    "    \"14% is $26 or $25.99\",\n",
    "    \"Mr. Bean bought 2 tickets 2-613-213-4567\",\n",
    "    \"43 Butter Rd, Brossard QC K0A 3P0 - 613 213 4567\", \n",
    "    \"The Rat Race, XX, 12345\",\n",
    "    \"Ignore phone numbers(613)2134567\",\n",
    "    \"Grab zips with dashes 12345-6789 or no space before12345-6789\",  \n",
    "    \"Grab zips with spaces 12345 6789 or no space before12345 6789\",\n",
    "    \"I like 1234567 dogs\",\n",
    "    \" There is ( $5.50 ) for , me and you (NAME HERE). \", \" that's [ 45.6% ] of! the pizza !\", \n",
    "    \"     14% is { $26  } or $25.99 ?\", \"Oh ;  here's colon : Yippee !\",\n",
    "    \"I love chicken [unintelligible]!\",\n",
    "    \"Me too Miss Jane! (laughter) It's so good.[interrupting]\",\n",
    "    \"Yep it's awesome {reading}.\", \"Agreed Ms. Jones. {is so much fun}\",\n",
    "    \"R uses 1:5 for 1, 2, 3, 4, 5.\", \n",
    "    \"At 3:00 we'll meet up , and we leave by 4:30:20\",\n",
    "    \"We'll meet at 6:33 , bring $20,000.\", \"He ran it in :22.34\"\n",
    "]\n",
    "random"
   ]
  },
  {
   "cell_type": "code",
   "execution_count": null,
   "metadata": {
    "collapsed": true
   },
   "outputs": [],
   "source": []
  },
  {
   "cell_type": "markdown",
   "metadata": {},
   "source": [
    "## Use `'random'` to make a 1 column pandas dataframe with the column named random."
   ]
  },
  {
   "cell_type": "code",
   "execution_count": 4,
   "metadata": {
    "collapsed": false
   },
   "outputs": [
    {
     "data": {
      "text/html": [
       "<div>\n",
       "<table border=\"1\" class=\"dataframe\">\n",
       "  <thead>\n",
       "    <tr style=\"text-align: right;\">\n",
       "      <th></th>\n",
       "      <th>random</th>\n",
       "    </tr>\n",
       "  </thead>\n",
       "  <tbody>\n",
       "    <tr>\n",
       "      <th>0</th>\n",
       "      <td>A download file from the http://example.com</td>\n",
       "    </tr>\n",
       "    <tr>\n",
       "      <th>1</th>\n",
       "      <td>Another url ftp://www.example.com</td>\n",
       "    </tr>\n",
       "    <tr>\n",
       "      <th>2</th>\n",
       "      <td>And https://www.example.net</td>\n",
       "    </tr>\n",
       "    <tr>\n",
       "      <th>3</th>\n",
       "      <td>@hadley (Dr. Wickham) I like #rstats for #ggpl...</td>\n",
       "    </tr>\n",
       "    <tr>\n",
       "      <th>4</th>\n",
       "      <td>Difference between #magrittr and #pipeR, both ...</td>\n",
       "    </tr>\n",
       "    <tr>\n",
       "      <th>5</th>\n",
       "      <td>Is -2 an integer?</td>\n",
       "    </tr>\n",
       "    <tr>\n",
       "      <th>6</th>\n",
       "      <td>-4.3 and 3.33 are not.</td>\n",
       "    </tr>\n",
       "    <tr>\n",
       "      <th>7</th>\n",
       "      <td>123,456 is 0 alot -123456 more than -.2</td>\n",
       "    </tr>\n",
       "    <tr>\n",
       "      <th>8</th>\n",
       "      <td>and 3456789123 fg for 345.</td>\n",
       "    </tr>\n",
       "    <tr>\n",
       "      <th>9</th>\n",
       "      <td>There is $5.50 for me.</td>\n",
       "    </tr>\n",
       "    <tr>\n",
       "      <th>10</th>\n",
       "      <td>that's 45.6% of the pizza</td>\n",
       "    </tr>\n",
       "    <tr>\n",
       "      <th>11</th>\n",
       "      <td>14% is $26 or $25.99</td>\n",
       "    </tr>\n",
       "    <tr>\n",
       "      <th>12</th>\n",
       "      <td>Mr. Bean bought 2 tickets 2-613-213-4567</td>\n",
       "    </tr>\n",
       "    <tr>\n",
       "      <th>13</th>\n",
       "      <td>43 Butter Rd, Brossard QC K0A 3P0 - 613 213 4567</td>\n",
       "    </tr>\n",
       "    <tr>\n",
       "      <th>14</th>\n",
       "      <td>The Rat Race, XX, 12345</td>\n",
       "    </tr>\n",
       "    <tr>\n",
       "      <th>15</th>\n",
       "      <td>Ignore phone numbers(613)2134567</td>\n",
       "    </tr>\n",
       "    <tr>\n",
       "      <th>16</th>\n",
       "      <td>Grab zips with dashes 12345-6789 or no space b...</td>\n",
       "    </tr>\n",
       "    <tr>\n",
       "      <th>17</th>\n",
       "      <td>Grab zips with spaces 12345 6789 or no space b...</td>\n",
       "    </tr>\n",
       "    <tr>\n",
       "      <th>18</th>\n",
       "      <td>I like 1234567 dogs</td>\n",
       "    </tr>\n",
       "    <tr>\n",
       "      <th>19</th>\n",
       "      <td>There is ( $5.50 ) for , me and you (NAME HER...</td>\n",
       "    </tr>\n",
       "    <tr>\n",
       "      <th>20</th>\n",
       "      <td>that's [ 45.6% ] of! the pizza !</td>\n",
       "    </tr>\n",
       "    <tr>\n",
       "      <th>21</th>\n",
       "      <td>14% is { $26  } or $25.99 ?</td>\n",
       "    </tr>\n",
       "    <tr>\n",
       "      <th>22</th>\n",
       "      <td>Oh ;  here's colon : Yippee !</td>\n",
       "    </tr>\n",
       "    <tr>\n",
       "      <th>23</th>\n",
       "      <td>I love chicken [unintelligible]!</td>\n",
       "    </tr>\n",
       "    <tr>\n",
       "      <th>24</th>\n",
       "      <td>Me too Miss Jane! (laughter) It's so good.[int...</td>\n",
       "    </tr>\n",
       "    <tr>\n",
       "      <th>25</th>\n",
       "      <td>Yep it's awesome {reading}.</td>\n",
       "    </tr>\n",
       "    <tr>\n",
       "      <th>26</th>\n",
       "      <td>Agreed Ms. Jones. {is so much fun}</td>\n",
       "    </tr>\n",
       "    <tr>\n",
       "      <th>27</th>\n",
       "      <td>R uses 1:5 for 1, 2, 3, 4, 5.</td>\n",
       "    </tr>\n",
       "    <tr>\n",
       "      <th>28</th>\n",
       "      <td>At 3:00 we'll meet up , and we leave by 4:30:20</td>\n",
       "    </tr>\n",
       "    <tr>\n",
       "      <th>29</th>\n",
       "      <td>We'll meet at 6:33 , bring $20,000.</td>\n",
       "    </tr>\n",
       "    <tr>\n",
       "      <th>30</th>\n",
       "      <td>He ran it in :22.34</td>\n",
       "    </tr>\n",
       "  </tbody>\n",
       "</table>\n",
       "</div>"
      ],
      "text/plain": [
       "                                               random\n",
       "0         A download file from the http://example.com\n",
       "1                   Another url ftp://www.example.com\n",
       "2                         And https://www.example.net\n",
       "3   @hadley (Dr. Wickham) I like #rstats for #ggpl...\n",
       "4   Difference between #magrittr and #pipeR, both ...\n",
       "5                                   Is -2 an integer?\n",
       "6                              -4.3 and 3.33 are not.\n",
       "7             123,456 is 0 alot -123456 more than -.2\n",
       "8                          and 3456789123 fg for 345.\n",
       "9                              There is $5.50 for me.\n",
       "10                          that's 45.6% of the pizza\n",
       "11                               14% is $26 or $25.99\n",
       "12           Mr. Bean bought 2 tickets 2-613-213-4567\n",
       "13   43 Butter Rd, Brossard QC K0A 3P0 - 613 213 4567\n",
       "14                            The Rat Race, XX, 12345\n",
       "15                   Ignore phone numbers(613)2134567\n",
       "16  Grab zips with dashes 12345-6789 or no space b...\n",
       "17  Grab zips with spaces 12345 6789 or no space b...\n",
       "18                                I like 1234567 dogs\n",
       "19   There is ( $5.50 ) for , me and you (NAME HER...\n",
       "20                   that's [ 45.6% ] of! the pizza !\n",
       "21                        14% is { $26  } or $25.99 ?\n",
       "22                      Oh ;  here's colon : Yippee !\n",
       "23                   I love chicken [unintelligible]!\n",
       "24  Me too Miss Jane! (laughter) It's so good.[int...\n",
       "25                        Yep it's awesome {reading}.\n",
       "26                 Agreed Ms. Jones. {is so much fun}\n",
       "27                      R uses 1:5 for 1, 2, 3, 4, 5.\n",
       "28    At 3:00 we'll meet up , and we leave by 4:30:20\n",
       "29                We'll meet at 6:33 , bring $20,000.\n",
       "30                                He ran it in :22.34"
      ]
     },
     "execution_count": 4,
     "metadata": {},
     "output_type": "execute_result"
    }
   ],
   "source": [
    "x = pd.DataFrame(random, columns = ['random'])\n",
    "x"
   ]
  },
  {
   "cell_type": "code",
   "execution_count": null,
   "metadata": {
    "collapsed": true
   },
   "outputs": [],
   "source": []
  },
  {
   "cell_type": "markdown",
   "metadata": {},
   "source": [
    "## Remove all Twitter hash tags (#tag)."
   ]
  },
  {
   "cell_type": "code",
   "execution_count": 25,
   "metadata": {
    "collapsed": false
   },
   "outputs": [
    {
     "data": {
      "text/plain": [
       "0           A download file from the http://example.com\n",
       "1                     Another url ftp://www.example.com\n",
       "2                           And https://www.example.net\n",
       "3              @hadley (Dr. Wickham) I like  for  work.\n",
       "4     Difference between  and , both implement pipel...\n",
       "5                                     Is -2 an integer?\n",
       "6                                -4.3 and 3.33 are not.\n",
       "7               123,456 is 0 alot -123456 more than -.2\n",
       "8                            and 3456789123 fg for 345.\n",
       "9                                There is $5.50 for me.\n",
       "10                            that's 45.6% of the pizza\n",
       "11                                 14% is $26 or $25.99\n",
       "12             Mr. Bean bought 2 tickets 2-613-213-4567\n",
       "13     43 Butter Rd, Brossard QC K0A 3P0 - 613 213 4567\n",
       "14                              The Rat Race, XX, 12345\n",
       "15                     Ignore phone numbers(613)2134567\n",
       "16    Grab zips with dashes 12345-6789 or no space b...\n",
       "17    Grab zips with spaces 12345 6789 or no space b...\n",
       "18                                  I like 1234567 dogs\n",
       "19     There is ( $5.50 ) for , me and you (NAME HER...\n",
       "20                     that's [ 45.6% ] of! the pizza !\n",
       "21                          14% is { $26  } or $25.99 ?\n",
       "22                        Oh ;  here's colon : Yippee !\n",
       "23                     I love chicken [unintelligible]!\n",
       "24    Me too Miss Jane! (laughter) It's so good.[int...\n",
       "25                          Yep it's awesome {reading}.\n",
       "26                   Agreed Ms. Jones. {is so much fun}\n",
       "27                        R uses 1:5 for 1, 2, 3, 4, 5.\n",
       "28      At 3:00 we'll meet up , and we leave by 4:30:20\n",
       "29                  We'll meet at 6:33 , bring $20,000.\n",
       "30                                  He ran it in :22.34\n",
       "Name: random, dtype: object"
      ]
     },
     "execution_count": 25,
     "metadata": {},
     "output_type": "execute_result"
    }
   ],
   "source": [
    "x.random.str.replace('#\\w+', '')"
   ]
  },
  {
   "cell_type": "code",
   "execution_count": null,
   "metadata": {
    "collapsed": true
   },
   "outputs": [],
   "source": []
  },
  {
   "cell_type": "markdown",
   "metadata": {},
   "source": [
    "## Replace all Twitter user names (@name) with `'<<USER>>'`."
   ]
  },
  {
   "cell_type": "code",
   "execution_count": 24,
   "metadata": {
    "collapsed": false
   },
   "outputs": [
    {
     "data": {
      "text/plain": [
       "0           A download file from the http://example.com\n",
       "1                     Another url ftp://www.example.com\n",
       "2                           And https://www.example.net\n",
       "3     <<USER>> (Dr. Wickham) I like #rstats for #ggp...\n",
       "4     Difference between #magrittr and #pipeR, both ...\n",
       "5                                     Is -2 an integer?\n",
       "6                                -4.3 and 3.33 are not.\n",
       "7               123,456 is 0 alot -123456 more than -.2\n",
       "8                            and 3456789123 fg for 345.\n",
       "9                                There is $5.50 for me.\n",
       "10                            that's 45.6% of the pizza\n",
       "11                                 14% is $26 or $25.99\n",
       "12             Mr. Bean bought 2 tickets 2-613-213-4567\n",
       "13     43 Butter Rd, Brossard QC K0A 3P0 - 613 213 4567\n",
       "14                              The Rat Race, XX, 12345\n",
       "15                     Ignore phone numbers(613)2134567\n",
       "16    Grab zips with dashes 12345-6789 or no space b...\n",
       "17    Grab zips with spaces 12345 6789 or no space b...\n",
       "18                                  I like 1234567 dogs\n",
       "19     There is ( $5.50 ) for , me and you (NAME HER...\n",
       "20                     that's [ 45.6% ] of! the pizza !\n",
       "21                          14% is { $26  } or $25.99 ?\n",
       "22                        Oh ;  here's colon : Yippee !\n",
       "23                     I love chicken [unintelligible]!\n",
       "24    Me too Miss Jane! (laughter) It's so good.[int...\n",
       "25                          Yep it's awesome {reading}.\n",
       "26                   Agreed Ms. Jones. {is so much fun}\n",
       "27                        R uses 1:5 for 1, 2, 3, 4, 5.\n",
       "28      At 3:00 we'll meet up , and we leave by 4:30:20\n",
       "29                  We'll meet at 6:33 , bring $20,000.\n",
       "30                                  He ran it in :22.34\n",
       "Name: random, dtype: object"
      ]
     },
     "execution_count": 24,
     "metadata": {},
     "output_type": "execute_result"
    }
   ],
   "source": [
    "x.random.str.replace('@\\w+', '<<USER>>')"
   ]
  },
  {
   "cell_type": "code",
   "execution_count": null,
   "metadata": {
    "collapsed": true
   },
   "outputs": [],
   "source": []
  },
  {
   "cell_type": "markdown",
   "metadata": {},
   "source": [
    "## Replace dollar amounts including dollars and decimals with `'<<$$$>>'`."
   ]
  },
  {
   "cell_type": "code",
   "execution_count": 23,
   "metadata": {
    "collapsed": false
   },
   "outputs": [
    {
     "data": {
      "text/plain": [
       "0           A download file from the http://example.com\n",
       "1                     Another url ftp://www.example.com\n",
       "2                           And https://www.example.net\n",
       "3     @hadley (Dr. Wickham) I like #rstats for #ggpl...\n",
       "4     Difference between #magrittr and #pipeR, both ...\n",
       "5                                     Is -2 an integer?\n",
       "6                                -4.3 and 3.33 are not.\n",
       "7               123,456 is 0 alot -123456 more than -.2\n",
       "8                            and 3456789123 fg for 345.\n",
       "9                              There is <<$$$>> for me.\n",
       "10                            that's 45.6% of the pizza\n",
       "11                            14% is <<$$$>> or <<$$$>>\n",
       "12             Mr. Bean bought 2 tickets 2-613-213-4567\n",
       "13     43 Butter Rd, Brossard QC K0A 3P0 - 613 213 4567\n",
       "14                              The Rat Race, XX, 12345\n",
       "15                     Ignore phone numbers(613)2134567\n",
       "16    Grab zips with dashes 12345-6789 or no space b...\n",
       "17    Grab zips with spaces 12345 6789 or no space b...\n",
       "18                                  I like 1234567 dogs\n",
       "19     There is ( <<$$$>> ) for , me and you (NAME H...\n",
       "20                     that's [ 45.6% ] of! the pizza !\n",
       "21                     14% is { <<$$$>>  } or <<$$$>> ?\n",
       "22                        Oh ;  here's colon : Yippee !\n",
       "23                     I love chicken [unintelligible]!\n",
       "24    Me too Miss Jane! (laughter) It's so good.[int...\n",
       "25                          Yep it's awesome {reading}.\n",
       "26                   Agreed Ms. Jones. {is so much fun}\n",
       "27                        R uses 1:5 for 1, 2, 3, 4, 5.\n",
       "28      At 3:00 we'll meet up , and we leave by 4:30:20\n",
       "29                  We'll meet at 6:33 , bring <<$$$>>.\n",
       "30                                  He ran it in :22.34\n",
       "Name: random, dtype: object"
      ]
     },
     "execution_count": 23,
     "metadata": {},
     "output_type": "execute_result"
    }
   ],
   "source": [
    "x.random.str.replace(\"\\$\\d[\\d,]*(\\.\\d+)*\", '<<$$$>>')"
   ]
  },
  {
   "cell_type": "code",
   "execution_count": null,
   "metadata": {
    "collapsed": true
   },
   "outputs": [],
   "source": []
  },
  {
   "cell_type": "markdown",
   "metadata": {},
   "source": [
    "## Count the number of articles (the, a, an) in each string.  Remember to ignore case.  \n",
    "\n",
    "Don't count words that contain the articles (e.g., `\"they\"` contains the sub-string 'the'; don't count it).  '\\b' may not work unless you make the string raw: http://stackoverflow.com/a/3995242/1000343"
   ]
  },
  {
   "cell_type": "code",
   "execution_count": 8,
   "metadata": {
    "collapsed": false
   },
   "outputs": [
    {
     "data": {
      "text/plain": [
       "0     2\n",
       "1     0\n",
       "2     0\n",
       "3     0\n",
       "4     0\n",
       "5     1\n",
       "6     0\n",
       "7     0\n",
       "8     0\n",
       "9     0\n",
       "10    1\n",
       "11    0\n",
       "12    0\n",
       "13    0\n",
       "14    1\n",
       "15    0\n",
       "16    0\n",
       "17    0\n",
       "18    0\n",
       "19    0\n",
       "20    1\n",
       "21    0\n",
       "22    0\n",
       "23    0\n",
       "24    0\n",
       "25    0\n",
       "26    0\n",
       "27    0\n",
       "28    0\n",
       "29    0\n",
       "30    0\n",
       "Name: random, dtype: int64"
      ]
     },
     "execution_count": 8,
     "metadata": {},
     "output_type": "execute_result"
    }
   ],
   "source": [
    "x.random.str.count(r\"(?i)\\b(the|a|an)\\b\")"
   ]
  },
  {
   "cell_type": "code",
   "execution_count": null,
   "metadata": {
    "collapsed": true
   },
   "outputs": [],
   "source": []
  },
  {
   "cell_type": "markdown",
   "metadata": {},
   "source": [
    "## Replace 5 or 9 (must contain a dash) digit zip codes with `\"<<ZIP>>\"`."
   ]
  },
  {
   "cell_type": "code",
   "execution_count": 9,
   "metadata": {
    "collapsed": false
   },
   "outputs": [
    {
     "data": {
      "text/plain": [
       "0           A download file from the http://example.com\n",
       "1                     Another url ftp://www.example.com\n",
       "2                           And https://www.example.net\n",
       "3     @hadley (Dr. Wickham) I like #rstats for #ggpl...\n",
       "4     Difference between #magrittr and #pipeR, both ...\n",
       "5                                     Is -2 an integer?\n",
       "6                                -4.3 and 3.33 are not.\n",
       "7             123,456 is 0 alot -<<ZIP>>6 more than -.2\n",
       "8                          and <<ZIP>>89123 fg for 345.\n",
       "9                                There is $5.50 for me.\n",
       "10                            that's 45.6% of the pizza\n",
       "11                                 14% is $26 or $25.99\n",
       "12             Mr. Bean bought 2 tickets 2-613-213-4567\n",
       "13     43 Butter Rd, Brossard QC K0A 3P0 - 613 213 4567\n",
       "14                            The Rat Race, XX, <<ZIP>>\n",
       "15                   Ignore phone numbers(613)<<ZIP>>67\n",
       "16    Grab zips with dashes <<ZIP>> or no space befo...\n",
       "17    Grab zips with spaces <<ZIP>> 6789 or no space...\n",
       "18                                I like <<ZIP>>67 dogs\n",
       "19     There is ( $5.50 ) for , me and you (NAME HER...\n",
       "20                     that's [ 45.6% ] of! the pizza !\n",
       "21                          14% is { $26  } or $25.99 ?\n",
       "22                        Oh ;  here's colon : Yippee !\n",
       "23                     I love chicken [unintelligible]!\n",
       "24    Me too Miss Jane! (laughter) It's so good.[int...\n",
       "25                          Yep it's awesome {reading}.\n",
       "26                   Agreed Ms. Jones. {is so much fun}\n",
       "27                        R uses 1:5 for 1, 2, 3, 4, 5.\n",
       "28      At 3:00 we'll meet up , and we leave by 4:30:20\n",
       "29                  We'll meet at 6:33 , bring $20,000.\n",
       "30                                  He ran it in :22.34\n",
       "Name: random, dtype: object"
      ]
     },
     "execution_count": 9,
     "metadata": {},
     "output_type": "execute_result"
    }
   ],
   "source": [
    "x.random.str.replace(r\"\\b\\d{5}(-\\d{4})?\", '<<ZIP>>')"
   ]
  },
  {
   "cell_type": "code",
   "execution_count": null,
   "metadata": {
    "collapsed": true
   },
   "outputs": [],
   "source": []
  },
  {
   "cell_type": "markdown",
   "metadata": {},
   "source": [
    "## Replace a name title (Mr., Ms., Mz., Miss, Dr., etc.) followed by a capitalized name (presumably last name) with `\"<<TITLE NAME>>\"`."
   ]
  },
  {
   "cell_type": "code",
   "execution_count": 10,
   "metadata": {
    "collapsed": false
   },
   "outputs": [
    {
     "data": {
      "text/plain": [
       "0           A download file from the http://example.com\n",
       "1                     Another url ftp://www.example.com\n",
       "2                           And https://www.example.net\n",
       "3     @hadley (<<TITLE NAME>>) I like #rstats for #g...\n",
       "4     Difference between #magrittr and #pipeR, both ...\n",
       "5                                     Is -2 an integer?\n",
       "6                                -4.3 and 3.33 are not.\n",
       "7               123,456 is 0 alot -123456 more than -.2\n",
       "8                            and 3456789123 fg for 345.\n",
       "9                                There is $5.50 for me.\n",
       "10                            that's 45.6% of the pizza\n",
       "11                                 14% is $26 or $25.99\n",
       "12       <<TITLE NAME>> bought 2 tickets 2-613-213-4567\n",
       "13     43 Butter Rd, Brossard QC K0A 3P0 - 613 213 4567\n",
       "14                              The Rat Race, XX, 12345\n",
       "15                     Ignore phone numbers(613)2134567\n",
       "16    Grab zips with dashes 12345-6789 or no space b...\n",
       "17    Grab zips with spaces 12345 6789 or no space b...\n",
       "18                                  I like 1234567 dogs\n",
       "19     There is ( $5.50 ) for , me and you (NAME HER...\n",
       "20                     that's [ 45.6% ] of! the pizza !\n",
       "21                          14% is { $26  } or $25.99 ?\n",
       "22                        Oh ;  here's colon : Yippee !\n",
       "23                     I love chicken [unintelligible]!\n",
       "24    Me too <<TITLE NAME>>! (laughter) It's so good...\n",
       "25                          Yep it's awesome {reading}.\n",
       "26              Agreed <<TITLE NAME>>. {is so much fun}\n",
       "27                        R uses 1:5 for 1, 2, 3, 4, 5.\n",
       "28      At 3:00 we'll meet up , and we leave by 4:30:20\n",
       "29                  We'll meet at 6:33 , bring $20,000.\n",
       "30                                  He ran it in :22.34\n",
       "Name: random, dtype: object"
      ]
     },
     "execution_count": 10,
     "metadata": {},
     "output_type": "execute_result"
    }
   ],
   "source": [
    "x.random.str.replace(\"(Miss|((D|M)(s|r|rs|z)).)\\\\s+[A-Z][a-z']+\", '<<TITLE NAME>>')"
   ]
  },
  {
   "cell_type": "code",
   "execution_count": null,
   "metadata": {
    "collapsed": true
   },
   "outputs": [],
   "source": []
  },
  {
   "cell_type": "markdown",
   "metadata": {},
   "source": [
    "## Replace double spaces with single spaces."
   ]
  },
  {
   "cell_type": "code",
   "execution_count": 11,
   "metadata": {
    "collapsed": false
   },
   "outputs": [
    {
     "data": {
      "text/plain": [
       "0           A download file from the http://example.com\n",
       "1                     Another url ftp://www.example.com\n",
       "2                           And https://www.example.net\n",
       "3     @hadley (Dr. Wickham) I like #rstats for #ggpl...\n",
       "4     Difference between #magrittr and #pipeR, both ...\n",
       "5                                     Is -2 an integer?\n",
       "6                                -4.3 and 3.33 are not.\n",
       "7               123,456 is 0 alot -123456 more than -.2\n",
       "8                            and 3456789123 fg for 345.\n",
       "9                                There is $5.50 for me.\n",
       "10                            that's 45.6% of the pizza\n",
       "11                                 14% is $26 or $25.99\n",
       "12             Mr. Bean bought 2 tickets 2-613-213-4567\n",
       "13     43 Butter Rd, Brossard QC K0A 3P0 - 613 213 4567\n",
       "14                              The Rat Race, XX, 12345\n",
       "15                     Ignore phone numbers(613)2134567\n",
       "16    Grab zips with dashes 12345-6789 or no space b...\n",
       "17    Grab zips with spaces 12345 6789 or no space b...\n",
       "18                                  I like 1234567 dogs\n",
       "19     There is ( $5.50 ) for , me and you (NAME HER...\n",
       "20                     that's [ 45.6% ] of! the pizza !\n",
       "21                           14% is { $26 } or $25.99 ?\n",
       "22                         Oh ; here's colon : Yippee !\n",
       "23                     I love chicken [unintelligible]!\n",
       "24    Me too Miss Jane! (laughter) It's so good.[int...\n",
       "25                          Yep it's awesome {reading}.\n",
       "26                   Agreed Ms. Jones. {is so much fun}\n",
       "27                        R uses 1:5 for 1, 2, 3, 4, 5.\n",
       "28      At 3:00 we'll meet up , and we leave by 4:30:20\n",
       "29                  We'll meet at 6:33 , bring $20,000.\n",
       "30                                  He ran it in :22.34\n",
       "Name: random, dtype: object"
      ]
     },
     "execution_count": 11,
     "metadata": {},
     "output_type": "execute_result"
    }
   ],
   "source": [
    "x.random.str.replace(\"\\s+\", ' ')"
   ]
  },
  {
   "cell_type": "code",
   "execution_count": null,
   "metadata": {
    "collapsed": true
   },
   "outputs": [],
   "source": []
  },
  {
   "cell_type": "markdown",
   "metadata": {},
   "source": [
    "## Extract final punctuation mark. "
   ]
  },
  {
   "cell_type": "code",
   "execution_count": 12,
   "metadata": {
    "collapsed": false
   },
   "outputs": [
    {
     "data": {
      "text/html": [
       "<div>\n",
       "<table border=\"1\" class=\"dataframe\">\n",
       "  <thead>\n",
       "    <tr style=\"text-align: right;\">\n",
       "      <th></th>\n",
       "      <th></th>\n",
       "      <th>0</th>\n",
       "    </tr>\n",
       "    <tr>\n",
       "      <th></th>\n",
       "      <th>match</th>\n",
       "      <th></th>\n",
       "    </tr>\n",
       "  </thead>\n",
       "  <tbody>\n",
       "    <tr>\n",
       "      <th>3</th>\n",
       "      <th>0</th>\n",
       "      <td>.</td>\n",
       "    </tr>\n",
       "    <tr>\n",
       "      <th>5</th>\n",
       "      <th>0</th>\n",
       "      <td>?</td>\n",
       "    </tr>\n",
       "    <tr>\n",
       "      <th>6</th>\n",
       "      <th>0</th>\n",
       "      <td>.</td>\n",
       "    </tr>\n",
       "    <tr>\n",
       "      <th>8</th>\n",
       "      <th>0</th>\n",
       "      <td>.</td>\n",
       "    </tr>\n",
       "    <tr>\n",
       "      <th>9</th>\n",
       "      <th>0</th>\n",
       "      <td>.</td>\n",
       "    </tr>\n",
       "    <tr>\n",
       "      <th>20</th>\n",
       "      <th>0</th>\n",
       "      <td>!</td>\n",
       "    </tr>\n",
       "    <tr>\n",
       "      <th>21</th>\n",
       "      <th>0</th>\n",
       "      <td>?</td>\n",
       "    </tr>\n",
       "    <tr>\n",
       "      <th>22</th>\n",
       "      <th>0</th>\n",
       "      <td>!</td>\n",
       "    </tr>\n",
       "    <tr>\n",
       "      <th>23</th>\n",
       "      <th>0</th>\n",
       "      <td>!</td>\n",
       "    </tr>\n",
       "    <tr>\n",
       "      <th>25</th>\n",
       "      <th>0</th>\n",
       "      <td>.</td>\n",
       "    </tr>\n",
       "    <tr>\n",
       "      <th>27</th>\n",
       "      <th>0</th>\n",
       "      <td>.</td>\n",
       "    </tr>\n",
       "    <tr>\n",
       "      <th>29</th>\n",
       "      <th>0</th>\n",
       "      <td>.</td>\n",
       "    </tr>\n",
       "  </tbody>\n",
       "</table>\n",
       "</div>"
      ],
      "text/plain": [
       "          0\n",
       "   match   \n",
       "3  0      .\n",
       "5  0      ?\n",
       "6  0      .\n",
       "8  0      .\n",
       "9  0      .\n",
       "20 0      !\n",
       "21 0      ?\n",
       "22 0      !\n",
       "23 0      !\n",
       "25 0      .\n",
       "27 0      .\n",
       "29 0      ."
      ]
     },
     "execution_count": 12,
     "metadata": {},
     "output_type": "execute_result"
    }
   ],
   "source": [
    "x.random.str.extractall(\"([?.!]$)\")"
   ]
  },
  {
   "cell_type": "code",
   "execution_count": null,
   "metadata": {
    "collapsed": false
   },
   "outputs": [],
   "source": []
  },
  {
   "cell_type": "markdown",
   "metadata": {},
   "source": [
    "## Which strings have a comma preceded by a space?  Remove space before commas."
   ]
  },
  {
   "cell_type": "code",
   "execution_count": 13,
   "metadata": {
    "collapsed": false,
    "scrolled": true
   },
   "outputs": [
    {
     "data": {
      "text/plain": [
       "[19, 28, 29]"
      ]
     },
     "execution_count": 13,
     "metadata": {},
     "output_type": "execute_result"
    }
   ],
   "source": [
    "x['commaspace'] = x.random.str.contains('\\s+,')\n",
    "x[x['commaspace']].index.tolist()"
   ]
  },
  {
   "cell_type": "code",
   "execution_count": 14,
   "metadata": {
    "collapsed": false
   },
   "outputs": [
    {
     "data": {
      "text/plain": [
       "0           A download file from the http://example.com\n",
       "1                     Another url ftp://www.example.com\n",
       "2                           And https://www.example.net\n",
       "3     @hadley (Dr. Wickham) I like #rstats for #ggpl...\n",
       "4     Difference between #magrittr and #pipeR, both ...\n",
       "5                                     Is -2 an integer?\n",
       "6                                -4.3 and 3.33 are not.\n",
       "7               123,456 is 0 alot -123456 more than -.2\n",
       "8                            and 3456789123 fg for 345.\n",
       "9                                There is $5.50 for me.\n",
       "10                            that's 45.6% of the pizza\n",
       "11                                 14% is $26 or $25.99\n",
       "12             Mr. Bean bought 2 tickets 2-613-213-4567\n",
       "13     43 Butter Rd, Brossard QC K0A 3P0 - 613 213 4567\n",
       "14                              The Rat Race, XX, 12345\n",
       "15                     Ignore phone numbers(613)2134567\n",
       "16    Grab zips with dashes 12345-6789 or no space b...\n",
       "17    Grab zips with spaces 12345 6789 or no space b...\n",
       "18                                  I like 1234567 dogs\n",
       "19     There is ( $5.50 ) for, me and you (NAME HERE). \n",
       "20                     that's [ 45.6% ] of! the pizza !\n",
       "21                          14% is { $26  } or $25.99 ?\n",
       "22                        Oh ;  here's colon : Yippee !\n",
       "23                     I love chicken [unintelligible]!\n",
       "24    Me too Miss Jane! (laughter) It's so good.[int...\n",
       "25                          Yep it's awesome {reading}.\n",
       "26                   Agreed Ms. Jones. {is so much fun}\n",
       "27                        R uses 1:5 for 1, 2, 3, 4, 5.\n",
       "28       At 3:00 we'll meet up, and we leave by 4:30:20\n",
       "29                   We'll meet at 6:33, bring $20,000.\n",
       "30                                  He ran it in :22.34\n",
       "Name: random, dtype: object"
      ]
     },
     "execution_count": 14,
     "metadata": {},
     "output_type": "execute_result"
    }
   ],
   "source": [
    "x.random.str.replace(\"\\s+,\", ',')"
   ]
  },
  {
   "cell_type": "code",
   "execution_count": null,
   "metadata": {
    "collapsed": true
   },
   "outputs": [],
   "source": []
  },
  {
   "cell_type": "markdown",
   "metadata": {},
   "source": [
    "## Replace words starting with capital letters with `\"<<CAPS>>\"`."
   ]
  },
  {
   "cell_type": "code",
   "execution_count": 15,
   "metadata": {
    "collapsed": false
   },
   "outputs": [
    {
     "data": {
      "text/plain": [
       "0           A download file from the http://example.com\n",
       "1                    <<CAPS>> url ftp://www.example.com\n",
       "2                      <<CAPS>> https://www.example.net\n",
       "3     @hadley (<<CAPS>>. <<CAPS>>) I like #rstats fo...\n",
       "4     <<CAPS>> between #magrittr and #pipeR, both im...\n",
       "5                               <<CAPS>> -2 an integer?\n",
       "6                                -4.3 and 3.33 are not.\n",
       "7               123,456 is 0 alot -123456 more than -.2\n",
       "8                            and 3456789123 fg for 345.\n",
       "9                             <<CAPS>> is $5.50 for me.\n",
       "10                            that's 45.6% of the pizza\n",
       "11                                 14% is $26 or $25.99\n",
       "12    <<CAPS>>. <<CAPS>> bought 2 tickets 2-613-213-...\n",
       "13    43 <<CAPS>> <<CAPS>>, <<CAPS>> <<CAPS>> <<CAPS...\n",
       "14          <<CAPS>> <<CAPS>> <<CAPS>>, <<CAPS>>, 12345\n",
       "15                   <<CAPS>> phone numbers(613)2134567\n",
       "16    <<CAPS>> zips with dashes 12345-6789 or no spa...\n",
       "17    <<CAPS>> zips with spaces 12345 6789 or no spa...\n",
       "18                                  I like 1234567 dogs\n",
       "19     <<CAPS>> is ( $5.50 ) for , me and you (<<CAP...\n",
       "20                     that's [ 45.6% ] of! the pizza !\n",
       "21                          14% is { $26  } or $25.99 ?\n",
       "22                <<CAPS>> ;  here's colon : <<CAPS>> !\n",
       "23                     I love chicken [unintelligible]!\n",
       "24    <<CAPS>> too <<CAPS>> <<CAPS>>! (laughter) <<C...\n",
       "25                     <<CAPS>> it's awesome {reading}.\n",
       "26        <<CAPS>> <<CAPS>>. <<CAPS>>. {is so much fun}\n",
       "27                        R uses 1:5 for 1, 2, 3, 4, 5.\n",
       "28    <<CAPS>> 3:00 we'll meet up , and we leave by ...\n",
       "29            <<CAPS>>'ll meet at 6:33 , bring $20,000.\n",
       "30                            <<CAPS>> ran it in :22.34\n",
       "Name: random, dtype: object"
      ]
     },
     "execution_count": 15,
     "metadata": {},
     "output_type": "execute_result"
    }
   ],
   "source": [
    "x.random.str.replace(r\"\\b[A-Z]\\w+\", '<<CAPS>>')"
   ]
  },
  {
   "cell_type": "code",
   "execution_count": null,
   "metadata": {
    "collapsed": true
   },
   "outputs": [],
   "source": []
  },
  {
   "cell_type": "markdown",
   "metadata": {},
   "source": [
    "## Replace all parenthesis and the text in between with `'<<PLACEHOLDER>>'`."
   ]
  },
  {
   "cell_type": "code",
   "execution_count": 16,
   "metadata": {
    "collapsed": false
   },
   "outputs": [
    {
     "data": {
      "text/plain": [
       "0           A download file from the http://example.com\n",
       "1                     Another url ftp://www.example.com\n",
       "2                           And https://www.example.net\n",
       "3     @hadley <<PLACEHOLDER>> I like #rstats for #gg...\n",
       "4     Difference between #magrittr and #pipeR, both ...\n",
       "5                                     Is -2 an integer?\n",
       "6                                -4.3 and 3.33 are not.\n",
       "7               123,456 is 0 alot -123456 more than -.2\n",
       "8                            and 3456789123 fg for 345.\n",
       "9                                There is $5.50 for me.\n",
       "10                            that's 45.6% of the pizza\n",
       "11                                 14% is $26 or $25.99\n",
       "12             Mr. Bean bought 2 tickets 2-613-213-4567\n",
       "13     43 Butter Rd, Brossard QC K0A 3P0 - 613 213 4567\n",
       "14                              The Rat Race, XX, 12345\n",
       "15           Ignore phone numbers<<PLACEHOLDER>>2134567\n",
       "16    Grab zips with dashes 12345-6789 or no space b...\n",
       "17    Grab zips with spaces 12345 6789 or no space b...\n",
       "18                                  I like 1234567 dogs\n",
       "19     There is <<PLACEHOLDER>> for , me and you <<P...\n",
       "20                     that's [ 45.6% ] of! the pizza !\n",
       "21                          14% is { $26  } or $25.99 ?\n",
       "22                        Oh ;  here's colon : Yippee !\n",
       "23                     I love chicken [unintelligible]!\n",
       "24    Me too Miss Jane! <<PLACEHOLDER>> It's so good...\n",
       "25                          Yep it's awesome {reading}.\n",
       "26                   Agreed Ms. Jones. {is so much fun}\n",
       "27                        R uses 1:5 for 1, 2, 3, 4, 5.\n",
       "28      At 3:00 we'll meet up , and we leave by 4:30:20\n",
       "29                  We'll meet at 6:33 , bring $20,000.\n",
       "30                                  He ran it in :22.34\n",
       "Name: random, dtype: object"
      ]
     },
     "execution_count": 16,
     "metadata": {},
     "output_type": "execute_result"
    }
   ],
   "source": [
    "x.random.str.replace(\"\\\\([^)]*?\\\\)\", \"<<PLACEHOLDER>>\")"
   ]
  },
  {
   "cell_type": "code",
   "execution_count": null,
   "metadata": {
    "collapsed": true
   },
   "outputs": [],
   "source": []
  },
  {
   "cell_type": "markdown",
   "metadata": {},
   "source": [
    "## Remove all non-vowel characters ignoring cases."
   ]
  },
  {
   "cell_type": "code",
   "execution_count": 17,
   "metadata": {
    "collapsed": false
   },
   "outputs": [
    {
     "data": {
      "text/plain": [
       "0                                        Aooaieoeeaeo\n",
       "1                                            Aoeueaeo\n",
       "2                                               Aeaee\n",
       "3                                         aeiaIieaooo\n",
       "4     ieeeeeeaiaieoieeieieoeaooaeueieeeeeeaiaieieooio\n",
       "5                                               Iaiee\n",
       "6                                                aaeo\n",
       "7                                              iaooea\n",
       "8                                                  ao\n",
       "9                                               eeioe\n",
       "10                                              aoeia\n",
       "11                                                 io\n",
       "12                                             eaouie\n",
       "13                                              ueoaA\n",
       "14                                               eaae\n",
       "15                                            Ioeoeue\n",
       "16                                       aiiaeooaeeoe\n",
       "17                                       aiiaeooaeeoe\n",
       "18                                               Iieo\n",
       "19                                       eeioeaouAEEE\n",
       "20                                              aoeia\n",
       "21                                                 io\n",
       "22                                           Oeeooiee\n",
       "23                                        Ioeieuieiie\n",
       "24                                  eooiaeaueIoooieui\n",
       "25                                          eiaeoeeai\n",
       "26                                          Aeeoeiouu\n",
       "27                                                ueo\n",
       "28                                         Aeeeuaeeae\n",
       "29                                              eeeai\n",
       "30                                               eaii\n",
       "Name: random, dtype: object"
      ]
     },
     "execution_count": 17,
     "metadata": {},
     "output_type": "execute_result"
    }
   ],
   "source": [
    "x.random.str.replace(\"(?i)[^aeiou]\", \"\")"
   ]
  },
  {
   "cell_type": "code",
   "execution_count": null,
   "metadata": {
    "collapsed": true
   },
   "outputs": [],
   "source": []
  },
  {
   "cell_type": "markdown",
   "metadata": {},
   "source": [
    "## Remove all URLs.\n"
   ]
  },
  {
   "cell_type": "code",
   "execution_count": 18,
   "metadata": {
    "collapsed": false,
    "scrolled": true
   },
   "outputs": [
    {
     "data": {
      "text/plain": [
       "0                             A download file from the \n",
       "1                                          Another url \n",
       "2                                                  And \n",
       "3     @hadley (Dr. Wickham) I like #rstats for #ggpl...\n",
       "4     Difference between #magrittr and #pipeR, both ...\n",
       "5                                     Is -2 an integer?\n",
       "6                                -4.3 and 3.33 are not.\n",
       "7               123,456 is 0 alot -123456 more than -.2\n",
       "8                            and 3456789123 fg for 345.\n",
       "9                                There is $5.50 for me.\n",
       "10                            that's 45.6% of the pizza\n",
       "11                                 14% is $26 or $25.99\n",
       "12             Mr. Bean bought 2 tickets 2-613-213-4567\n",
       "13     43 Butter Rd, Brossard QC K0A 3P0 - 613 213 4567\n",
       "14                              The Rat Race, XX, 12345\n",
       "15                     Ignore phone numbers(613)2134567\n",
       "16    Grab zips with dashes 12345-6789 or no space b...\n",
       "17    Grab zips with spaces 12345 6789 or no space b...\n",
       "18                                  I like 1234567 dogs\n",
       "19     There is ( $5.50 ) for , me and you (NAME HER...\n",
       "20                     that's [ 45.6% ] of! the pizza !\n",
       "21                          14% is { $26  } or $25.99 ?\n",
       "22                        Oh ;  here's colon : Yippee !\n",
       "23                     I love chicken [unintelligible]!\n",
       "24    Me too Miss Jane! (laughter) It's so good.[int...\n",
       "25                          Yep it's awesome {reading}.\n",
       "26                   Agreed Ms. Jones. {is so much fun}\n",
       "27                        R uses 1:5 for 1, 2, 3, 4, 5.\n",
       "28      At 3:00 we'll meet up , and we leave by 4:30:20\n",
       "29                  We'll meet at 6:33 , bring $20,000.\n",
       "30                                  He ran it in :22.34\n",
       "Name: random, dtype: object"
      ]
     },
     "execution_count": 18,
     "metadata": {},
     "output_type": "execute_result"
    }
   ],
   "source": [
    "x.random.str.replace(\"(http[^ ]*)|(ftp[^ ]*)|(www\\\\.[^ ]*)\", \"\")"
   ]
  },
  {
   "cell_type": "code",
   "execution_count": null,
   "metadata": {
    "collapsed": true
   },
   "outputs": [],
   "source": []
  },
  {
   "cell_type": "markdown",
   "metadata": {
    "collapsed": true
   },
   "source": [
    "## Tokenizing: \n",
    "1. Remove all characters except letters, apostrophes, & spaces. \n",
    "2. Remove leading and trailing spaces.  \n",
    "3. Split each string into a vector of words (split on one or more spaces).  "
   ]
  },
  {
   "cell_type": "code",
   "execution_count": 19,
   "metadata": {
    "collapsed": false
   },
   "outputs": [
    {
     "data": {
      "text/plain": [
       "0        [A, download, file, from, the, httpexamplecom]\n",
       "1                      [Another, url, ftpwwwexamplecom]\n",
       "2                             [And, httpswwwexamplenet]\n",
       "3     [hadley, Dr, Wickham, I, like, rstats, for, gg...\n",
       "4     [Difference, between, magrittr, and, pipeR, bo...\n",
       "5                                     [Is, an, integer]\n",
       "6                                       [and, are, not]\n",
       "7                                [is, alot, more, than]\n",
       "8                                        [and, fg, for]\n",
       "9                                  [There, is, for, me]\n",
       "10                             [that's, of, the, pizza]\n",
       "11                                             [is, or]\n",
       "12                          [Mr, Bean, bought, tickets]\n",
       "13                    [Butter, Rd, Brossard, QC, KA, P]\n",
       "14                                 [The, Rat, Race, XX]\n",
       "15                             [Ignore, phone, numbers]\n",
       "16    [Grab, zips, with, dashes, or, no, space, before]\n",
       "17    [Grab, zips, with, spaces, or, no, space, before]\n",
       "18                                      [I, like, dogs]\n",
       "19           [There, is, for, me, and, you, NAME, HERE]\n",
       "20                             [that's, of, the, pizza]\n",
       "21                                             [is, or]\n",
       "22                          [Oh, here's, colon, Yippee]\n",
       "23                   [I, love, chicken, unintelligible]\n",
       "24    [Me, too, Miss, Jane, laughter, It's, so, good...\n",
       "25                        [Yep, it's, awesome, reading]\n",
       "26               [Agreed, Ms, Jones, is, so, much, fun]\n",
       "27                                       [R, uses, for]\n",
       "28            [At, we'll, meet, up, and, we, leave, by]\n",
       "29                             [We'll, meet, at, bring]\n",
       "30                                    [He, ran, it, in]\n",
       "Name: temp, dtype: object"
      ]
     },
     "execution_count": 19,
     "metadata": {},
     "output_type": "execute_result"
    }
   ],
   "source": [
    "x['temp'] = x.random.str.replace(\"[^A-Za-z' ]\", \"\")\n",
    "x['temp'] = x.temp.str.replace(\"^\\\\s+|\\\\s+$\", \"\")\n",
    "x.temp.str.split(\"\\s+\")"
   ]
  },
  {
   "cell_type": "code",
   "execution_count": null,
   "metadata": {
    "collapsed": true
   },
   "outputs": [],
   "source": []
  },
  {
   "cell_type": "markdown",
   "metadata": {
    "collapsed": true
   },
   "source": [
    "## Replace all numbers (including decimal points and negative signs) with `\"<<NUMBER>>\"`."
   ]
  },
  {
   "cell_type": "code",
   "execution_count": 20,
   "metadata": {
    "collapsed": false
   },
   "outputs": [
    {
     "data": {
      "text/plain": [
       "0           A download file from the http://example.com\n",
       "1                     Another url ftp://www.example.com\n",
       "2                           And https://www.example.net\n",
       "3     @hadley (Dr. Wickham) I like #rstats for #ggpl...\n",
       "4     Difference between #magrittr and #pipeR, both ...\n",
       "5                             Is <<NUMBER>> an integer?\n",
       "6                    <<NUMBER>> and <<NUMBER>> are not.\n",
       "7     <<NUMBER>> is <<NUMBER>> alot <<NUMBER>> more ...\n",
       "8                     and <<NUMBER>> fg for <<NUMBER>>.\n",
       "9                          There is $<<NUMBER>> for me.\n",
       "10                      that's <<NUMBER>>% of the pizza\n",
       "11            <<NUMBER>>% is $<<NUMBER>> or $<<NUMBER>>\n",
       "12    Mr. Bean bought <<NUMBER>> tickets <<NUMBER>><...\n",
       "13    <<NUMBER>> Butter Rd, Brossard QC K<<NUMBER>>A...\n",
       "14                         The Rat Race, XX, <<NUMBER>>\n",
       "15           Ignore phone numbers(<<NUMBER>>)<<NUMBER>>\n",
       "16    Grab zips with dashes <<NUMBER>><<NUMBER>> or ...\n",
       "17    Grab zips with spaces <<NUMBER>> <<NUMBER>> or...\n",
       "18                               I like <<NUMBER>> dogs\n",
       "19     There is ( $<<NUMBER>> ) for , me and you (NA...\n",
       "20               that's [ <<NUMBER>>% ] of! the pizza !\n",
       "21         <<NUMBER>>% is { $<<NUMBER>>  } or $<<NUM...\n",
       "22                        Oh ;  here's colon : Yippee !\n",
       "23                     I love chicken [unintelligible]!\n",
       "24    Me too Miss Jane! (laughter) It's so good.[int...\n",
       "25                          Yep it's awesome {reading}.\n",
       "26                   Agreed Ms. Jones. {is so much fun}\n",
       "27    R uses <<NUMBER>>:<<NUMBER>> for <<NUMBER>> <<...\n",
       "28    At <<NUMBER>>:<<NUMBER>> we'll meet up , and w...\n",
       "29    We'll meet at <<NUMBER>>:<<NUMBER>> , bring $<...\n",
       "30                             He ran it in :<<NUMBER>>\n",
       "Name: random, dtype: object"
      ]
     },
     "execution_count": 20,
     "metadata": {},
     "output_type": "execute_result"
    }
   ],
   "source": [
    "x.random.str.replace( \"-?\\\\d[\\\\d,]*(\\\\.\\\\d+)*\", \"<<NUMBER>>\")"
   ]
  },
  {
   "cell_type": "markdown",
   "metadata": {},
   "source": [
    "***Note*** *that a number followed by a comma  (e.g., `\"33,\"` in `\"We'll meet at 6:33, bring $20,000.\"`) might get captured.  We'll learn advanced techniques to handle this in a more advanced session.*\n"
   ]
  },
  {
   "cell_type": "code",
   "execution_count": null,
   "metadata": {
    "collapsed": true
   },
   "outputs": [],
   "source": []
  },
  {
   "cell_type": "code",
   "execution_count": null,
   "metadata": {
    "collapsed": true
   },
   "outputs": [],
   "source": []
  },
  {
   "cell_type": "code",
   "execution_count": null,
   "metadata": {
    "collapsed": true
   },
   "outputs": [],
   "source": []
  }
 ],
 "metadata": {
  "kernelspec": {
   "display_name": "Python 3",
   "language": "python",
   "name": "python3"
  },
  "language_info": {
   "codemirror_mode": {
    "name": "ipython",
    "version": 3
   },
   "file_extension": ".py",
   "mimetype": "text/x-python",
   "name": "python",
   "nbconvert_exporter": "python",
   "pygments_lexer": "ipython3",
   "version": "3.5.2"
  }
 },
 "nbformat": 4,
 "nbformat_minor": 0
}
